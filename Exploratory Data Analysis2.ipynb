{
 "cells": [
  {
   "cell_type": "code",
   "execution_count": 2,
   "metadata": {},
   "outputs": [],
   "source": [
    "#selecting variables from the dataset and making a new dataset\n",
    "from ggplot import mtcars\n",
    "df_mtcars = mtcars\n",
    "df_mtcars_subset = df_mtcars[['hp','cyl','carb']]"
   ]
  },
  {
   "cell_type": "code",
   "execution_count": 5,
   "metadata": {},
   "outputs": [],
   "source": [
    "#selecting the rows with conditions; use &\n",
    "df_mtcars_v1 = df_mtcars.ix[(df_mtcars['cyl'] == 6) | (df_mtcars['carb'] == 4 )]"
   ]
  },
  {
   "cell_type": "code",
   "execution_count": 6,
   "metadata": {
    "collapsed": true
   },
   "outputs": [],
   "source": [
    "# Creating a new variable\n",
    "import numpy as np\n",
    "df_mtcars['NewVar'] = np.log2(df_mtcars['cyl'])\n"
   ]
  },
  {
   "cell_type": "code",
   "execution_count": 10,
   "metadata": {},
   "outputs": [],
   "source": [
    "#Adding rows of two data frame\n",
    "import pandas as pd\n",
    "d1 = pd.DataFrame({'a':[3,4,5,6], 'b': [4,5,6,6]}) #let us create two data frame to merge\n",
    "d2 = pd.DataFrame({'a':[5,6,7,8], 'b': [4,5,7,8]})\n",
    "d3 = d1.append(d2)"
   ]
  },
  {
   "cell_type": "code",
   "execution_count": 11,
   "metadata": {},
   "outputs": [
    {
     "data": {
      "text/html": [
       "<div>\n",
       "<style>\n",
       "    .dataframe thead tr:only-child th {\n",
       "        text-align: right;\n",
       "    }\n",
       "\n",
       "    .dataframe thead th {\n",
       "        text-align: left;\n",
       "    }\n",
       "\n",
       "    .dataframe tbody tr th {\n",
       "        vertical-align: top;\n",
       "    }\n",
       "</style>\n",
       "<table border=\"1\" class=\"dataframe\">\n",
       "  <thead>\n",
       "    <tr style=\"text-align: right;\">\n",
       "      <th></th>\n",
       "      <th>a</th>\n",
       "      <th>b</th>\n",
       "      <th>a</th>\n",
       "      <th>b</th>\n",
       "    </tr>\n",
       "  </thead>\n",
       "  <tbody>\n",
       "    <tr>\n",
       "      <th>0</th>\n",
       "      <td>3</td>\n",
       "      <td>4</td>\n",
       "      <td>5</td>\n",
       "      <td>4</td>\n",
       "    </tr>\n",
       "    <tr>\n",
       "      <th>1</th>\n",
       "      <td>4</td>\n",
       "      <td>5</td>\n",
       "      <td>6</td>\n",
       "      <td>5</td>\n",
       "    </tr>\n",
       "    <tr>\n",
       "      <th>2</th>\n",
       "      <td>5</td>\n",
       "      <td>6</td>\n",
       "      <td>7</td>\n",
       "      <td>7</td>\n",
       "    </tr>\n",
       "    <tr>\n",
       "      <th>3</th>\n",
       "      <td>6</td>\n",
       "      <td>6</td>\n",
       "      <td>8</td>\n",
       "      <td>8</td>\n",
       "    </tr>\n",
       "  </tbody>\n",
       "</table>\n",
       "</div>"
      ],
      "text/plain": [
       "   a  b  a  b\n",
       "0  3  4  5  4\n",
       "1  4  5  6  5\n",
       "2  5  6  7  7\n",
       "3  6  6  8  8"
      ]
     },
     "execution_count": 11,
     "metadata": {},
     "output_type": "execute_result"
    }
   ],
   "source": [
    "#Adding columns\n",
    "d3 = pd.concat([d1.reset_index(drop=True),d2],axis =1)\n",
    "d3"
   ]
  },
  {
   "cell_type": "code",
   "execution_count": 12,
   "metadata": {
    "collapsed": true
   },
   "outputs": [],
   "source": [
    "#Convert each variable\n",
    "df_mtcars['cyl']=df_mtcars['cyl'].astype(object)"
   ]
  },
  {
   "cell_type": "code",
   "execution_count": 13,
   "metadata": {
    "collapsed": true
   },
   "outputs": [],
   "source": [
    "#Convert numeric to categorical/binning\n",
    "df_mtcars['mpgcat'] = np.where(df_mtcars['mpg']>20, 'Low',0)"
   ]
  },
  {
   "cell_type": "code",
   "execution_count": 14,
   "metadata": {
    "collapsed": true
   },
   "outputs": [],
   "source": [
    "## Sorting in ascending order\n",
    "df_mtcars = df_mtcars.sort_values('mpg', ascending=True)"
   ]
  },
  {
   "cell_type": "code",
   "execution_count": 15,
   "metadata": {
    "collapsed": true
   },
   "outputs": [],
   "source": [
    "##Sorting in descending order\n",
    "df_mtcars = df_mtcars.sort_values('mpg', ascending = False)"
   ]
  },
  {
   "cell_type": "code",
   "execution_count": 16,
   "metadata": {
    "collapsed": true
   },
   "outputs": [],
   "source": [
    "# Merge dataframes\n",
    "df1 = pd.DataFrame({\n",
    "    'A' : range(1,6,1),\n",
    "    'B' : np.random.randint(5,105,size = 5),\n",
    "    'C' : ['Toaster','Toaster', 'Ohio', 'Toaster', 'Ohio' ]\n",
    "})\n",
    "df2 = pd.DataFrame({'A': [2,4,5],\n",
    "                   'Product':['Medium', 'Classic', 'Delux']})"
   ]
  },
  {
   "cell_type": "code",
   "execution_count": null,
   "metadata": {
    "collapsed": true
   },
   "outputs": [],
   "source": [
    "#Joins\n",
    "df_left = df1.merge(df2, on = 'A', how = 'left')\n",
    "#df_right = df1.merge(df2, on = 'A', how = 'right')\n"
   ]
  }
 ],
 "metadata": {
  "kernelspec": {
   "display_name": "Python 3",
   "language": "python",
   "name": "python3"
  },
  "language_info": {
   "codemirror_mode": {
    "name": "ipython",
    "version": 3
   },
   "file_extension": ".py",
   "mimetype": "text/x-python",
   "name": "python",
   "nbconvert_exporter": "python",
   "pygments_lexer": "ipython3",
   "version": "3.6.3"
  }
 },
 "nbformat": 4,
 "nbformat_minor": 2
}
